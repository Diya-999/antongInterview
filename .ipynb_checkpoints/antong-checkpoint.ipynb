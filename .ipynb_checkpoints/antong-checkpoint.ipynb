{
 "cells": [
  {
   "cell_type": "code",
   "execution_count": 1,
   "metadata": {},
   "outputs": [],
   "source": [
    "from time import strftime,strptime,sleep,localtime,time\n",
    "import random\n",
    "import pandas as pd\n",
    "import urllib.request,urllib.error,urllib.parse  #制定URL，获取网页数据\n",
    "import requests   # 制定URL，获取网页数据\n",
    "import schedule #定时爬取"
   ]
  },
  {
   "cell_type": "code",
   "execution_count": 2,
   "metadata": {},
   "outputs": [],
   "source": [
    "def main():\n",
    "    # 每周航运指数数据网页连接\n",
    "    baseurl = f'https://www.epanasia.com/gateway/api/web/commonUrl/freight/epanBdFreightIndex'\n",
    "    savepath = \"data/index.csv\"\n",
    "    \n",
    "    #爬取数据并保存\n",
    "    datalist = askURL(baseurl)\n",
    "    saveData(datalist[\"data\"][\"bdFreightIndexMaps\"][\"baseBdFreightIndexDTOS\"],savepath)  #存入表格\n",
    "    print(\"更新航运指数完毕\", strftime('%Y.%m.%d', localtime(time())))"
   ]
  },
  {
   "cell_type": "code",
   "execution_count": 3,
   "metadata": {},
   "outputs": [],
   "source": [
    "#指定的到一个url的网页内容\n",
    "def askURL(url):\n",
    "    ua = [\"Mozilla/5.0 (Windows NT 6.1; WOW64) AppleWebKit/537.36 (KHTML, like Gecko) Chrome/31.0.1623.0 Safari/537.36\",\n",
    "        \"Mozilla/5.0 (compatible; MSIE 9.0; Windows NT 6.1; WOW64; Trident/5.0; SLCC2; Media Center PC 6.0; InfoPath.3; MS-RTC LM 8; Zune 4.7)\",\n",
    "        \"Mozilla/5.0 (Windows NT 6.1; WOW64; rv:29.0) Gecko/20120101 Firefox/29.0\",\n",
    "        \"Opera/9.80 (X11; Linux x86_64; U; Ubuntu/10.10 (maverick); pl) Presto/2.7.62 Version/11.01\",\n",
    "        \"Mozilla/5.0 (Macintosh; U; Intel Mac OS X 10_6_6; it-it) AppleWebKit/533.20.25 (KHTML, like Gecko) Version/5.0.4 Safari/533.20.27\",\n",
    "        \"Mozilla/5.0 (Windows NT 10.0; Win64; x64) AppleWebKit/537.36 (KHTML, like Gecko) Chrome/90.0.4430.93 Safari/537.36 Edg/90.0.818.51\",\n",
    "        \"Mozilla/5.0 (Windows NT 10.0; Win64; x64) AppleWebKit/537.36 (KHTML, like Gecko) Chrome/96.0.4664.110 Safari/537.36 Edg/96.0.1054.62\",\n",
    "        \"Mozilla/5.0 (Windows NT 10.0; WOW64; Trident/7.0; rv:11.0) like Gecko\"\n",
    "    ]\n",
    "    numUa = random.randint(0, len(ua) - 1)\n",
    "\n",
    "    #代理IP\n",
    "    proxy = {'https': '106.15.137.58:8089'}\n",
    "    # 创建ProxyHandler\n",
    "    proxy_support = urllib.request.ProxyHandler(proxy)\n",
    "    # 创建Opener\n",
    "    opener = urllib.request.build_opener(proxy_support)\n",
    "    # 添加User Angent6\n",
    "    opener.addheaders = [('User-Agent',\n",
    "                          ua[numUa])]\n",
    "    # 安装OPener\n",
    "    urllib.request.install_opener(opener)\n",
    "    data = {\"indexType\":\"multiple\",\"count\":\"null\"}\n",
    "\n",
    "    header = {  #模拟浏览头部信息，向浏览器发送信息\n",
    "        \"User-Agent\":ua[numUa]\n",
    "    }\n",
    "    html = \"\"\n",
    "    \n",
    "    for i in range(3):  #设置一个三次重连的机制\n",
    "        try:\n",
    "            request = requests.post(url, json=data,headers=header, timeout=5)\n",
    "            return request.json()\n",
    "        except urllib.error.HTTPError as e:\n",
    "            print(\"HTTPError\",e.reason, e.code, e.headers, sep='\\n')\n",
    "        except urllib.error.URLError as e:\n",
    "            sleep(0.1)\n",
    "            if hasattr(e,\"code\"):\n",
    "                print(e.code)\n",
    "            if hasattr(e,\"reason\"):\n",
    "                print(e.reason)"
   ]
  },
  {
   "cell_type": "code",
   "execution_count": 4,
   "metadata": {},
   "outputs": [],
   "source": [
    "#保存数据到表格中\n",
    "def saveData(data,savepath):\n",
    "    cols = [\"indexDate\",\"indexValue\"]\n",
    "    df = pd.DataFrame(data)\n",
    "    df = df.loc[:,cols]\n",
    "    print(df)\n",
    "    df.to_csv(\"data/index.csv\",index = None,header = [\"日期\",\"指数\"], encoding='utf_8_sig')    "
   ]
  },
  {
   "cell_type": "code",
   "execution_count": 5,
   "metadata": {},
   "outputs": [],
   "source": [
    "#定时\n",
    "def Timer():\n",
    "    schedule.every().monday.at(\"23:57\").do(main)\n",
    "    while True:\n",
    "        schedule.run_pending()\n",
    "        sleep(1)"
   ]
  },
  {
   "cell_type": "code",
   "execution_count": null,
   "metadata": {},
   "outputs": [
    {
     "name": "stdout",
     "output_type": "stream",
     "text": [
      "      indexDate indexValue\n",
      "0    2015/06/05      1000 \n",
      "1    2015/06/12      1022 \n",
      "2    2015/06/19      1090 \n",
      "3    2015/06/26      1012 \n",
      "4    2015/07/03      1043 \n",
      "..          ...        ...\n",
      "337  2021/11/19       1726\n",
      "338  2021/11/26       1751\n",
      "339  2021/12/03       1820\n",
      "340  2021/12/10       1851\n",
      "341  2021/12/17       1877\n",
      "\n",
      "[342 rows x 2 columns]\n",
      "更新航运指数完毕 2021.12.26\n"
     ]
    }
   ],
   "source": [
    "Timer()"
   ]
  }
 ],
 "metadata": {
  "kernelspec": {
   "display_name": "Python 3",
   "language": "python",
   "name": "python3"
  },
  "language_info": {
   "codemirror_mode": {
    "name": "ipython",
    "version": 3
   },
   "file_extension": ".py",
   "mimetype": "text/x-python",
   "name": "python",
   "nbconvert_exporter": "python",
   "pygments_lexer": "ipython3",
   "version": "3.7.4"
  }
 },
 "nbformat": 4,
 "nbformat_minor": 2
}
